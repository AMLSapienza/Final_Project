{
  "cells": [
    {
      "cell_type": "markdown",
      "metadata": {
        "id": "wuh98bWP7pE7"
      },
      "source": [
        "# Training"
      ]
    },
    {
      "cell_type": "code",
      "source": [
        "from google.colab import drive\n",
        "drive._mount('/content/drive')"
      ],
      "metadata": {
        "colab": {
          "base_uri": "https://localhost:8080/"
        },
        "id": "bmx-BUA5mgee",
        "outputId": "6bf12bef-4acc-4e1b-8a39-12a9dcc70e44"
      },
      "execution_count": 3,
      "outputs": [
        {
          "output_type": "stream",
          "name": "stdout",
          "text": [
            "Mounted at /content/drive\n"
          ]
        }
      ]
    },
    {
      "cell_type": "code",
      "source": [
        "import os\n",
        "os.chdir('/content/drive/MyDrive/LearningToCountEverything_new')"
      ],
      "metadata": {
        "id": "xS-FW1CjR_XK"
      },
      "execution_count": 5,
      "outputs": []
    },
    {
      "cell_type": "code",
      "execution_count": 6,
      "metadata": {
        "id": "Di5ANiM_7pE8"
      },
      "outputs": [],
      "source": [
        "import torch.nn as nn\n",
        "from model import *\n",
        "from utils_ltce import MAPS, Scales, Transform,TransformTrain,extract_features, visualize_output_and_save\n",
        "from PIL import Image\n",
        "import os\n",
        "import torch\n",
        "import argparse\n",
        "import json\n",
        "import numpy as np\n",
        "from tqdm import tqdm\n",
        "from os.path import exists,join\n",
        "import random\n",
        "import torch.optim as optim\n",
        "import torch.nn.functional as F\n",
        "import cv2\n",
        "import matplotlib.pyplot as plt\n",
        "from collections import defaultdict\n",
        "import torchvision.ops.boxes as bops\n",
        "from funcs import *"
      ]
    },
    {
      "cell_type": "code",
      "source": [
        "enable_gpu = True\n",
        "if enable_gpu:\n",
        "  print(\"=====> GPU\")\n",
        "else:\n",
        "  print(\"=====> CPU\")"
      ],
      "metadata": {
        "colab": {
          "base_uri": "https://localhost:8080/"
        },
        "id": "Lb-W31Qk9VDQ",
        "outputId": "e3d501e5-17ca-4eb3-f0a1-d725c852fc11"
      },
      "execution_count": 7,
      "outputs": [
        {
          "output_type": "stream",
          "name": "stdout",
          "text": [
            "=====> GPU\n"
          ]
        }
      ]
    },
    {
      "cell_type": "code",
      "execution_count": 8,
      "metadata": {
        "id": "vgK6nUil7pE9",
        "colab": {
          "base_uri": "https://localhost:8080/",
          "height": 86,
          "referenced_widgets": [
            "edc99d3c52f345b9b4cf69d1c7b05e38",
            "2828348ea6a64105acde9a1b2f11ee1b",
            "74eb727ea7434c5aae5ba256640fbd8d",
            "254b4992ef02470cad909163cbc77c77",
            "ac98a0f1e80f4139a39a5531076bd8b7",
            "be8ff63484ae4ef8b779cef748591447",
            "09f0f1f48ac349cf8d5883c414d6e83b",
            "ac0ca54ca55c4a31981ee594fb4f2c49",
            "383fd37fce0a46b0b516fac0c897a513",
            "5357734847484bf995c9b01f74a5ac3f",
            "ec5b7650739f495db2e1cfeaf0692873"
          ]
        },
        "outputId": "a96d0a4c-d00a-4955-8817-51ec818fbb05"
      },
      "outputs": [
        {
          "output_type": "stream",
          "name": "stderr",
          "text": [
            "Downloading: \"https://download.pytorch.org/models/resnet50-0676ba61.pth\" to /root/.cache/torch/hub/checkpoints/resnet50-0676ba61.pth\n"
          ]
        },
        {
          "output_type": "display_data",
          "data": {
            "application/vnd.jupyter.widget-view+json": {
              "model_id": "edc99d3c52f345b9b4cf69d1c7b05e38",
              "version_minor": 0,
              "version_major": 2
            },
            "text/plain": [
              "  0%|          | 0.00/97.8M [00:00<?, ?B/s]"
            ]
          },
          "metadata": {}
        }
      ],
      "source": [
        "data_path = '/content/drive/MyDrive/LearningToCountEverything_new/data/'\n",
        "image_path = '/content/drive/MyDrive/Colab Notebooks/LearningToCountEverything/data/'\n",
        "output_dir = \"./logsSave\"\n",
        "check_dir = \"./checkpoints\"\n",
        "test_split = \"train\" #choices=[\"train\", \"test\", \"val\"]\n",
        "gpu_id = 0 \n",
        "learning_rate = 1e-5\n",
        "anno_file = image_path + 'annotation_FSC147_384.json'\n",
        "data_split_file = image_path + 'Train_Test_Val_FSC_147.json'\n",
        "im_dir = image_path + 'images_384_VarV2'\n",
        "gt_dir = image_path + 'gt_density_map_adaptive_384_VarV2'\n",
        "\n",
        "\n",
        "regressor = CountRegressorAML(6, pool='mean')\n",
        "weights_normal_init(regressor, dev=0.001)\n",
        "\n",
        "backbone_model = Resnet50FPN()\n",
        "\n",
        "if enable_gpu: \n",
        "    regressor.cuda()\n",
        "    regressor.train()\n",
        "    criterion = nn.MSELoss().cuda()\n",
        "    backbone_model.cuda()\n",
        "    backbone_model.eval()\n",
        "    os.environ[\"CUDA_DEVICE_ORDER\"] = \"PCI_BUS_ID\"\n",
        "    os.environ[\"CUDA_VISIBLE_DEVICES\"] = str(gpu_id)\n",
        "else: \n",
        "    regressor.train()\n",
        "    criterion = nn.MSELoss()\n",
        "    backbone_model.eval()\n",
        "\n",
        "optimizer = optim.Adam(regressor.parameters(), lr = learning_rate)\n",
        "\n",
        "if not exists(output_dir):\n",
        "    os.mkdir(output_dir)\n",
        "\n",
        "if not exists(check_dir):\n",
        "    os.mkdir(check_dir)\n",
        "\n",
        "\n",
        "  "
      ]
    },
    {
      "cell_type": "code",
      "execution_count": 9,
      "metadata": {
        "id": "jnDoX1RX7pE9"
      },
      "outputs": [],
      "source": [
        "with open(anno_file) as f:\n",
        "    annotations = json.load(f)\n",
        "\n",
        "with open(data_split_file) as f:\n",
        "    data_split = json.load(f)"
      ]
    },
    {
      "cell_type": "code",
      "execution_count": 10,
      "metadata": {
        "colab": {
          "base_uri": "https://localhost:8080/"
        },
        "id": "0_W3jXuR7pE-",
        "outputId": "9e9e05c0-2d00-4efc-cb8b-81037a2ae70a"
      },
      "outputs": [
        {
          "output_type": "stream",
          "name": "stderr",
          "text": [
            "Downloading: \"https://github.com/ultralytics/yolov5/archive/master.zip\" to /root/.cache/torch/hub/master.zip\n"
          ]
        },
        {
          "output_type": "stream",
          "name": "stdout",
          "text": [
            "Downloading https://ultralytics.com/assets/Arial.ttf to /root/.config/Ultralytics/Arial.ttf...\n",
            "\u001b[31m\u001b[1mrequirements:\u001b[0m PyYAML>=5.3.1 not found and is required by YOLOv5, attempting auto-update...\n"
          ]
        },
        {
          "output_type": "stream",
          "name": "stderr",
          "text": [
            "YOLOv5 🚀 2021-12-13 torch 1.10.0+cu111 CUDA:0 (Tesla K80, 11441MiB)\n",
            "\n"
          ]
        },
        {
          "output_type": "stream",
          "name": "stdout",
          "text": [
            "Collecting PyYAML>=5.3.1\n",
            "  Downloading PyYAML-6.0-cp37-cp37m-manylinux_2_5_x86_64.manylinux1_x86_64.manylinux_2_12_x86_64.manylinux2010_x86_64.whl (596 kB)\n",
            "Installing collected packages: PyYAML\n",
            "  Attempting uninstall: PyYAML\n",
            "    Found existing installation: PyYAML 3.13\n",
            "    Uninstalling PyYAML-3.13:\n",
            "      Successfully uninstalled PyYAML-3.13\n",
            "Successfully installed PyYAML-6.0\n",
            "\n",
            "\u001b[31m\u001b[1mrequirements:\u001b[0m 1 package updated per /root/.cache/torch/hub/ultralytics_yolov5_master/requirements.txt\n",
            "\u001b[31m\u001b[1mrequirements:\u001b[0m ⚠️ \u001b[1mRestart runtime or rerun command for updates to take effect\u001b[0m\n",
            "\n"
          ]
        },
        {
          "output_type": "stream",
          "name": "stderr",
          "text": [
            "Fusing layers... \n",
            "Model Summary: 476 layers, 76726332 parameters, 0 gradients\n",
            "Adding AutoShape... \n"
          ]
        }
      ],
      "source": [
        "model_yolo = torch.hub.load('ultralytics/yolov5', 'yolov5l6', pretrained=True)"
      ]
    },
    {
      "cell_type": "code",
      "execution_count": 11,
      "metadata": {
        "id": "YycEV3xl7pE-"
      },
      "outputs": [],
      "source": [
        "import warnings\n",
        "warnings.filterwarnings(\"ignore\")"
      ]
    },
    {
      "cell_type": "code",
      "source": [
        "len(data_split['train'])"
      ],
      "metadata": {
        "colab": {
          "base_uri": "https://localhost:8080/"
        },
        "id": "wDzEQuswxZ8s",
        "outputId": "66b100ba-d547-46fe-d6f1-c54aa52cd61a"
      },
      "execution_count": 12,
      "outputs": [
        {
          "output_type": "execute_result",
          "data": {
            "text/plain": [
              "3659"
            ]
          },
          "metadata": {},
          "execution_count": 12
        }
      ]
    },
    {
      "cell_type": "code",
      "source": [
        "len(data_split['val'])"
      ],
      "metadata": {
        "colab": {
          "base_uri": "https://localhost:8080/"
        },
        "id": "S47b7Am0oeUk",
        "outputId": "7ec4e107-4019-4dd3-ec71-91e593cee9b6"
      },
      "execution_count": 13,
      "outputs": [
        {
          "output_type": "execute_result",
          "data": {
            "text/plain": [
              "1286"
            ]
          },
          "metadata": {},
          "execution_count": 13
        }
      ]
    },
    {
      "cell_type": "code",
      "execution_count": null,
      "metadata": {
        "colab": {
          "base_uri": "https://localhost:8080/"
        },
        "id": "rcQ8RSiB7pE-",
        "outputId": "88fca93b-ace7-46f2-cef6-5b38f1622698"
      },
      "outputs": [
        {
          "output_type": "stream",
          "name": "stdout",
          "text": [
            "Training on FSC147 train set data\n"
          ]
        },
        {
          "output_type": "stream",
          "name": "stderr",
          "text": [
            "actual:  91.0 -- predicted:  39.9 -- YOLO:   0.0 -- FAMNet error:  51.1 -- YOLO error:  91.0 -- Current MAE:51.13 -- RMSE:51.13 -- Best VAL MAE:10000000.00 -- RMSE: 10000000.00:   0%|          | 1/3659 [00:52<53:50:59, 53.00s/it]"
          ]
        },
        {
          "output_type": "stream",
          "name": "stdout",
          "text": [
            "\n"
          ]
        },
        {
          "output_type": "stream",
          "name": "stderr",
          "text": [
            "actual:  72.0 -- predicted:   0.0 -- YOLO:   3.0 -- FAMNet error:  72.0 -- YOLO error:  69.0 -- Current MAE:61.56 -- RMSE:62.44 -- Best VAL MAE:10000000.00 -- RMSE: 10000000.00:   0%|          | 2/3659 [00:54<22:50:21, 22.48s/it]"
          ]
        },
        {
          "output_type": "stream",
          "name": "stdout",
          "text": [
            "\n"
          ]
        },
        {
          "output_type": "stream",
          "name": "stderr",
          "text": [
            "actual:  14.0 -- predicted:  52.1 -- YOLO:  10.0 -- FAMNet error:  38.1 -- YOLO error:   4.0 -- Current MAE:53.75 -- RMSE:55.53 -- Best VAL MAE:10000000.00 -- RMSE: 10000000.00:   0%|          | 3/3659 [00:55<12:58:21, 12.77s/it]"
          ]
        },
        {
          "output_type": "stream",
          "name": "stdout",
          "text": [
            "\n"
          ]
        },
        {
          "output_type": "stream",
          "name": "stderr",
          "text": [
            "actual:  35.0 -- predicted:  46.1 -- YOLO:  22.0 -- FAMNet error:  11.1 -- YOLO error:  13.0 -- Current MAE:43.09 -- RMSE:48.41 -- Best VAL MAE:10000000.00 -- RMSE: 10000000.00:   0%|          | 4/3659 [00:56<8:17:17,  8.16s/it] "
          ]
        },
        {
          "output_type": "stream",
          "name": "stdout",
          "text": [
            "\n"
          ]
        },
        {
          "output_type": "stream",
          "name": "stderr",
          "text": [
            "actual:  10.0 -- predicted:  22.5 -- YOLO:  10.0 -- FAMNet error:  12.5 -- YOLO error:   0.0 -- Current MAE:36.97 -- RMSE:43.66 -- Best VAL MAE:10000000.00 -- RMSE: 10000000.00:   0%|          | 5/3659 [00:57<5:42:27,  5.62s/it]"
          ]
        },
        {
          "output_type": "stream",
          "name": "stdout",
          "text": [
            "\n"
          ]
        },
        {
          "output_type": "stream",
          "name": "stderr",
          "text": [
            "actual:  61.0 -- predicted:  40.2 -- YOLO:   1.0 -- FAMNet error:  20.8 -- YOLO error:  60.0 -- Current MAE:34.27 -- RMSE:40.75 -- Best VAL MAE:10000000.00 -- RMSE: 10000000.00:   0%|          | 6/3659 [00:58<4:03:50,  4.01s/it]"
          ]
        },
        {
          "output_type": "stream",
          "name": "stdout",
          "text": [
            "\n"
          ]
        },
        {
          "output_type": "stream",
          "name": "stderr",
          "text": [
            "actual:  24.0 -- predicted:  26.4 -- YOLO:   0.0 -- FAMNet error:   2.4 -- YOLO error:  24.0 -- Current MAE:29.71 -- RMSE:37.74 -- Best VAL MAE:10000000.00 -- RMSE: 10000000.00:   0%|          | 7/3659 [00:59<3:00:26,  2.96s/it]"
          ]
        },
        {
          "output_type": "stream",
          "name": "stdout",
          "text": [
            "\n"
          ]
        },
        {
          "output_type": "stream",
          "name": "stderr",
          "text": [
            "actual:  12.0 -- predicted:   0.5 -- YOLO:   6.0 -- FAMNet error:  11.5 -- YOLO error:   6.0 -- Current MAE:27.43 -- RMSE:35.53 -- Best VAL MAE:10000000.00 -- RMSE: 10000000.00:   0%|          | 8/3659 [01:00<2:19:43,  2.30s/it]"
          ]
        },
        {
          "output_type": "stream",
          "name": "stdout",
          "text": [
            "\n"
          ]
        },
        {
          "output_type": "stream",
          "name": "stderr",
          "text": [
            "actual:  23.0 -- predicted:  19.0 -- YOLO:   1.0 -- FAMNet error:   4.0 -- YOLO error:  22.0 -- Current MAE:24.83 -- RMSE:33.53 -- Best VAL MAE:10000000.00 -- RMSE: 10000000.00:   0%|          | 9/3659 [01:01<1:54:45,  1.89s/it]"
          ]
        },
        {
          "output_type": "stream",
          "name": "stdout",
          "text": [
            "\n"
          ]
        },
        {
          "output_type": "stream",
          "name": "stderr",
          "text": [
            "actual:  10.0 -- predicted:   0.0 -- YOLO:   1.0 -- FAMNet error:  10.0 -- YOLO error:   9.0 -- Current MAE:23.35 -- RMSE:31.96 -- Best VAL MAE:10000000.00 -- RMSE: 10000000.00:   0%|          | 10/3659 [01:01<1:35:13,  1.57s/it]"
          ]
        },
        {
          "output_type": "stream",
          "name": "stdout",
          "text": [
            "\n"
          ]
        },
        {
          "output_type": "stream",
          "name": "stderr",
          "text": [
            "actual:  52.0 -- predicted:   9.8 -- YOLO:   1.0 -- FAMNet error:  42.2 -- YOLO error:  51.0 -- Current MAE:25.06 -- RMSE:33.02 -- Best VAL MAE:10000000.00 -- RMSE: 10000000.00:   0%|          | 11/3659 [01:02<1:21:43,  1.34s/it]"
          ]
        },
        {
          "output_type": "stream",
          "name": "stdout",
          "text": [
            "\n"
          ]
        },
        {
          "output_type": "stream",
          "name": "stderr",
          "text": [
            "actual: 195.0 -- predicted:  48.3 -- YOLO:   0.0 -- FAMNet error: 146.7 -- YOLO error: 195.0 -- Current MAE:35.20 -- RMSE:52.85 -- Best VAL MAE:10000000.00 -- RMSE: 10000000.00:   0%|          | 12/3659 [01:03<1:11:48,  1.18s/it]"
          ]
        },
        {
          "output_type": "stream",
          "name": "stdout",
          "text": [
            "\n"
          ]
        },
        {
          "output_type": "stream",
          "name": "stderr",
          "text": [
            "actual: 147.0 -- predicted:  60.0 -- YOLO:   1.0 -- FAMNet error:  87.0 -- YOLO error: 146.0 -- Current MAE:39.18 -- RMSE:56.22 -- Best VAL MAE:10000000.00 -- RMSE: 10000000.00:   0%|          | 13/3659 [01:04<1:05:03,  1.07s/it]"
          ]
        },
        {
          "output_type": "stream",
          "name": "stdout",
          "text": [
            "\n"
          ]
        },
        {
          "output_type": "stream",
          "name": "stderr",
          "text": [
            "actual:  16.0 -- predicted:   0.1 -- YOLO:  10.0 -- FAMNet error:  15.9 -- YOLO error:   6.0 -- Current MAE:37.52 -- RMSE:54.34 -- Best VAL MAE:10000000.00 -- RMSE: 10000000.00:   0%|          | 14/3659 [01:05<1:04:54,  1.07s/it]"
          ]
        },
        {
          "output_type": "stream",
          "name": "stdout",
          "text": [
            "\n"
          ]
        },
        {
          "output_type": "stream",
          "name": "stderr",
          "text": [
            "actual:  72.0 -- predicted:  36.6 -- YOLO:   1.0 -- FAMNet error:  35.4 -- YOLO error:  71.0 -- Current MAE:37.38 -- RMSE:53.29 -- Best VAL MAE:10000000.00 -- RMSE: 10000000.00:   0%|          | 15/3659 [01:06<1:01:06,  1.01s/it]"
          ]
        },
        {
          "output_type": "stream",
          "name": "stdout",
          "text": [
            "\n"
          ]
        },
        {
          "output_type": "stream",
          "name": "stderr",
          "text": [
            "actual:   9.0 -- predicted:   0.0 -- YOLO:   7.0 -- FAMNet error:   9.0 -- YOLO error:   2.0 -- Current MAE:35.60 -- RMSE:51.65 -- Best VAL MAE:10000000.00 -- RMSE: 10000000.00:   0%|          | 16/3659 [01:07<1:02:06,  1.02s/it]"
          ]
        },
        {
          "output_type": "stream",
          "name": "stdout",
          "text": [
            "\n"
          ]
        },
        {
          "output_type": "stream",
          "name": "stderr",
          "text": [
            "actual:  37.0 -- predicted:  68.2 -- YOLO:   0.0 -- FAMNet error:  31.2 -- YOLO error:  37.0 -- Current MAE:35.35 -- RMSE:50.67 -- Best VAL MAE:10000000.00 -- RMSE: 10000000.00:   0%|          | 17/3659 [01:08<57:44,  1.05it/s]  "
          ]
        },
        {
          "output_type": "stream",
          "name": "stdout",
          "text": [
            "\n"
          ]
        },
        {
          "output_type": "stream",
          "name": "stderr",
          "text": [
            "actual:  26.0 -- predicted:  92.5 -- YOLO:   0.0 -- FAMNet error:  66.5 -- YOLO error:  26.0 -- Current MAE:37.08 -- RMSE:51.68 -- Best VAL MAE:10000000.00 -- RMSE: 10000000.00:   0%|          | 18/3659 [01:08<54:32,  1.11it/s]"
          ]
        },
        {
          "output_type": "stream",
          "name": "stdout",
          "text": [
            "\n"
          ]
        },
        {
          "output_type": "stream",
          "name": "stderr",
          "text": [
            "actual:  33.0 -- predicted:  34.9 -- YOLO:   0.0 -- FAMNet error:   1.9 -- YOLO error:  33.0 -- Current MAE:35.22 -- RMSE:50.30 -- Best VAL MAE:10000000.00 -- RMSE: 10000000.00:   1%|          | 19/3659 [01:09<53:29,  1.13it/s]"
          ]
        },
        {
          "output_type": "stream",
          "name": "stdout",
          "text": [
            "\n"
          ]
        },
        {
          "output_type": "stream",
          "name": "stderr",
          "text": [
            "actual: 111.0 -- predicted:  44.9 -- YOLO:   0.0 -- FAMNet error:  66.1 -- YOLO error: 111.0 -- Current MAE:36.77 -- RMSE:51.21 -- Best VAL MAE:10000000.00 -- RMSE: 10000000.00:   1%|          | 20/3659 [01:10<53:57,  1.12it/s]"
          ]
        },
        {
          "output_type": "stream",
          "name": "stdout",
          "text": [
            "\n"
          ]
        },
        {
          "output_type": "stream",
          "name": "stderr",
          "text": [
            "actual:  14.0 -- predicted:  17.8 -- YOLO:   2.0 -- FAMNet error:   3.8 -- YOLO error:  12.0 -- Current MAE:35.20 -- RMSE:49.98 -- Best VAL MAE:10000000.00 -- RMSE: 10000000.00:   1%|          | 21/3659 [01:11<51:20,  1.18it/s]"
          ]
        },
        {
          "output_type": "stream",
          "name": "stdout",
          "text": [
            "\n"
          ]
        },
        {
          "output_type": "stream",
          "name": "stderr",
          "text": [
            "actual: 226.0 -- predicted: 136.6 -- YOLO:  20.0 -- FAMNet error:  89.4 -- YOLO error: 206.0 -- Current MAE:37.66 -- RMSE:52.42 -- Best VAL MAE:10000000.00 -- RMSE: 10000000.00:   1%|          | 22/3659 [01:13<1:07:00,  1.11s/it]"
          ]
        },
        {
          "output_type": "stream",
          "name": "stdout",
          "text": [
            "\n"
          ]
        },
        {
          "output_type": "stream",
          "name": "stderr",
          "text": [
            "actual:  34.0 -- predicted:   7.0 -- YOLO:   4.0 -- FAMNet error:  27.0 -- YOLO error:  30.0 -- Current MAE:37.20 -- RMSE:51.58 -- Best VAL MAE:10000000.00 -- RMSE: 10000000.00:   1%|          | 23/3659 [01:14<1:09:54,  1.15s/it]"
          ]
        },
        {
          "output_type": "stream",
          "name": "stdout",
          "text": [
            "\n"
          ]
        },
        {
          "output_type": "stream",
          "name": "stderr",
          "text": [
            "actual:  58.0 -- predicted:  44.9 -- YOLO:   1.0 -- FAMNet error:  13.1 -- YOLO error:  57.0 -- Current MAE:36.19 -- RMSE:50.56 -- Best VAL MAE:10000000.00 -- RMSE: 10000000.00:   1%|          | 24/3659 [01:15<1:09:08,  1.14s/it]"
          ]
        },
        {
          "output_type": "stream",
          "name": "stdout",
          "text": [
            "\n"
          ]
        },
        {
          "output_type": "stream",
          "name": "stderr",
          "text": [
            "actual:  72.0 -- predicted:  30.0 -- YOLO:   1.0 -- FAMNet error:  42.0 -- YOLO error:  71.0 -- Current MAE:36.42 -- RMSE:50.25 -- Best VAL MAE:10000000.00 -- RMSE: 10000000.00:   1%|          | 25/3659 [01:16<1:03:27,  1.05s/it]"
          ]
        },
        {
          "output_type": "stream",
          "name": "stdout",
          "text": [
            "\n"
          ]
        },
        {
          "output_type": "stream",
          "name": "stderr",
          "text": [
            "actual:  51.0 -- predicted:  96.9 -- YOLO:   0.0 -- FAMNet error:  45.9 -- YOLO error:  51.0 -- Current MAE:36.79 -- RMSE:50.09 -- Best VAL MAE:10000000.00 -- RMSE: 10000000.00:   1%|          | 26/3659 [01:17<1:00:47,  1.00s/it]"
          ]
        },
        {
          "output_type": "stream",
          "name": "stdout",
          "text": [
            "\n"
          ]
        },
        {
          "output_type": "stream",
          "name": "stderr",
          "text": [
            "actual:  32.0 -- predicted:  19.9 -- YOLO:   5.0 -- FAMNet error:  12.1 -- YOLO error:  27.0 -- Current MAE:35.87 -- RMSE:49.21 -- Best VAL MAE:10000000.00 -- RMSE: 10000000.00:   1%|          | 27/3659 [01:18<1:03:26,  1.05s/it]"
          ]
        },
        {
          "output_type": "stream",
          "name": "stdout",
          "text": [
            "\n"
          ]
        },
        {
          "output_type": "stream",
          "name": "stderr",
          "text": [
            "actual:  71.0 -- predicted: 133.4 -- YOLO:   7.0 -- FAMNet error:  62.4 -- YOLO error:  64.0 -- Current MAE:36.82 -- RMSE:49.74 -- Best VAL MAE:10000000.00 -- RMSE: 10000000.00:   1%|          | 28/3659 [01:19<1:09:30,  1.15s/it]"
          ]
        },
        {
          "output_type": "stream",
          "name": "stdout",
          "text": [
            "\n"
          ]
        },
        {
          "output_type": "stream",
          "name": "stderr",
          "text": [
            "actual:  42.0 -- predicted:  35.4 -- YOLO:   1.0 -- FAMNet error:   6.6 -- YOLO error:  41.0 -- Current MAE:35.78 -- RMSE:48.89 -- Best VAL MAE:10000000.00 -- RMSE: 10000000.00:   1%|          | 29/3659 [01:20<1:03:41,  1.05s/it]"
          ]
        },
        {
          "output_type": "stream",
          "name": "stdout",
          "text": [
            "\n"
          ]
        },
        {
          "output_type": "stream",
          "name": "stderr",
          "text": [
            "actual:   9.0 -- predicted:  12.4 -- YOLO:   9.0 -- FAMNet error:   3.4 -- YOLO error:   0.0 -- Current MAE:34.70 -- RMSE:48.07 -- Best VAL MAE:10000000.00 -- RMSE: 10000000.00:   1%|          | 30/3659 [01:21<1:02:06,  1.03s/it]"
          ]
        },
        {
          "output_type": "stream",
          "name": "stdout",
          "text": [
            "\n"
          ]
        },
        {
          "output_type": "stream",
          "name": "stderr",
          "text": [
            "actual: 233.0 -- predicted: 147.6 -- YOLO:   1.0 -- FAMNet error:  85.4 -- YOLO error: 232.0 -- Current MAE:36.34 -- RMSE:49.72 -- Best VAL MAE:10000000.00 -- RMSE: 10000000.00:   1%|          | 31/3659 [01:22<57:46,  1.05it/s]  "
          ]
        },
        {
          "output_type": "stream",
          "name": "stdout",
          "text": [
            "\n"
          ]
        },
        {
          "output_type": "stream",
          "name": "stderr",
          "text": [
            "actual: 106.0 -- predicted:  69.7 -- YOLO:   0.0 -- FAMNet error:  36.3 -- YOLO error: 106.0 -- Current MAE:36.34 -- RMSE:49.35 -- Best VAL MAE:10000000.00 -- RMSE: 10000000.00:   1%|          | 32/3659 [01:23<54:45,  1.10it/s]"
          ]
        },
        {
          "output_type": "stream",
          "name": "stdout",
          "text": [
            "\n"
          ]
        },
        {
          "output_type": "stream",
          "name": "stderr",
          "text": [
            "actual: 275.0 -- predicted:  91.9 -- YOLO:   0.0 -- FAMNet error: 183.1 -- YOLO error: 275.0 -- Current MAE:40.79 -- RMSE:58.12 -- Best VAL MAE:10000000.00 -- RMSE: 10000000.00:   1%|          | 33/3659 [01:24<58:01,  1.04it/s]"
          ]
        },
        {
          "output_type": "stream",
          "name": "stdout",
          "text": [
            "\n"
          ]
        },
        {
          "output_type": "stream",
          "name": "stderr",
          "text": [
            "actual:  36.0 -- predicted: 142.2 -- YOLO:   6.0 -- FAMNet error: 106.2 -- YOLO error:  30.0 -- Current MAE:42.71 -- RMSE:60.08 -- Best VAL MAE:10000000.00 -- RMSE: 10000000.00:   1%|          | 34/3659 [01:25<1:00:31,  1.00s/it]"
          ]
        },
        {
          "output_type": "stream",
          "name": "stdout",
          "text": [
            "\n"
          ]
        },
        {
          "output_type": "stream",
          "name": "stderr",
          "text": [
            "actual:  12.0 -- predicted:  26.3 -- YOLO:   9.0 -- FAMNet error:  14.3 -- YOLO error:   3.0 -- Current MAE:41.90 -- RMSE:59.27 -- Best VAL MAE:10000000.00 -- RMSE: 10000000.00:   1%|          | 35/3659 [01:26<58:24,  1.03it/s]  "
          ]
        },
        {
          "output_type": "stream",
          "name": "stdout",
          "text": [
            "\n"
          ]
        },
        {
          "output_type": "stream",
          "name": "stderr",
          "text": [
            "actual: 154.0 -- predicted:  35.7 -- YOLO:   8.0 -- FAMNet error: 118.3 -- YOLO error: 146.0 -- Current MAE:44.02 -- RMSE:61.68 -- Best VAL MAE:10000000.00 -- RMSE: 10000000.00:   1%|          | 36/3659 [01:27<57:25,  1.05it/s]"
          ]
        },
        {
          "output_type": "stream",
          "name": "stdout",
          "text": [
            "\n"
          ]
        },
        {
          "output_type": "stream",
          "name": "stderr",
          "text": [
            "actual:  20.0 -- predicted:  35.5 -- YOLO:   1.0 -- FAMNet error:  15.5 -- YOLO error:  19.0 -- Current MAE:43.25 -- RMSE:60.89 -- Best VAL MAE:10000000.00 -- RMSE: 10000000.00:   1%|          | 37/3659 [01:27<53:17,  1.13it/s]"
          ]
        },
        {
          "output_type": "stream",
          "name": "stdout",
          "text": [
            "\n"
          ]
        },
        {
          "output_type": "stream",
          "name": "stderr",
          "text": [
            "actual:  35.0 -- predicted:  83.1 -- YOLO:   0.0 -- FAMNet error:  48.1 -- YOLO error:  35.0 -- Current MAE:43.38 -- RMSE:60.59 -- Best VAL MAE:10000000.00 -- RMSE: 10000000.00:   1%|          | 38/3659 [01:28<53:31,  1.13it/s]"
          ]
        },
        {
          "output_type": "stream",
          "name": "stdout",
          "text": [
            "\n"
          ]
        },
        {
          "output_type": "stream",
          "name": "stderr",
          "text": [
            "actual:  14.0 -- predicted:  54.8 -- YOLO:   1.0 -- FAMNet error:  40.8 -- YOLO error:  13.0 -- Current MAE:43.31 -- RMSE:60.16 -- Best VAL MAE:10000000.00 -- RMSE: 10000000.00:   1%|          | 39/3659 [01:29<52:19,  1.15it/s]"
          ]
        },
        {
          "output_type": "stream",
          "name": "stdout",
          "text": [
            "\n"
          ]
        },
        {
          "output_type": "stream",
          "name": "stderr",
          "text": [
            "actual:  88.0 -- predicted:  42.8 -- YOLO:   1.0 -- FAMNet error:  45.2 -- YOLO error:  87.0 -- Current MAE:43.36 -- RMSE:59.84 -- Best VAL MAE:10000000.00 -- RMSE: 10000000.00:   1%|          | 40/3659 [01:30<49:22,  1.22it/s]"
          ]
        },
        {
          "output_type": "stream",
          "name": "stdout",
          "text": [
            "\n"
          ]
        },
        {
          "output_type": "stream",
          "name": "stderr",
          "text": [
            "actual:  88.0 -- predicted:   1.0 -- YOLO:  10.0 -- FAMNet error:  87.0 -- YOLO error:  78.0 -- Current MAE:44.42 -- RMSE:60.64 -- Best VAL MAE:10000000.00 -- RMSE: 10000000.00:   1%|          | 41/3659 [01:31<50:16,  1.20it/s]"
          ]
        },
        {
          "output_type": "stream",
          "name": "stdout",
          "text": [
            "\n"
          ]
        },
        {
          "output_type": "stream",
          "name": "stderr",
          "text": [
            "actual:  21.0 -- predicted:  24.7 -- YOLO:   0.0 -- FAMNet error:   3.7 -- YOLO error:  21.0 -- Current MAE:43.45 -- RMSE:59.92 -- Best VAL MAE:10000000.00 -- RMSE: 10000000.00:   1%|          | 42/3659 [01:32<51:16,  1.18it/s]"
          ]
        },
        {
          "output_type": "stream",
          "name": "stdout",
          "text": [
            "\n"
          ]
        },
        {
          "output_type": "stream",
          "name": "stderr",
          "text": [
            "actual: 110.0 -- predicted:  48.7 -- YOLO:   0.0 -- FAMNet error:  61.3 -- YOLO error: 110.0 -- Current MAE:43.87 -- RMSE:59.95 -- Best VAL MAE:10000000.00 -- RMSE: 10000000.00:   1%|          | 43/3659 [01:32<50:37,  1.19it/s]"
          ]
        },
        {
          "output_type": "stream",
          "name": "stdout",
          "text": [
            "\n"
          ]
        },
        {
          "output_type": "stream",
          "name": "stderr",
          "text": [
            "actual:  13.0 -- predicted:  88.4 -- YOLO:   0.0 -- FAMNet error:  75.4 -- YOLO error:  13.0 -- Current MAE:44.58 -- RMSE:60.34 -- Best VAL MAE:10000000.00 -- RMSE: 10000000.00:   1%|          | 44/3659 [01:33<49:18,  1.22it/s]"
          ]
        },
        {
          "output_type": "stream",
          "name": "stdout",
          "text": [
            "\n"
          ]
        },
        {
          "output_type": "stream",
          "name": "stderr",
          "text": [
            "actual:  40.0 -- predicted:  33.4 -- YOLO:   0.0 -- FAMNet error:   6.6 -- YOLO error:  40.0 -- Current MAE:43.74 -- RMSE:59.68 -- Best VAL MAE:10000000.00 -- RMSE: 10000000.00:   1%|          | 45/3659 [01:34<49:25,  1.22it/s]"
          ]
        },
        {
          "output_type": "stream",
          "name": "stdout",
          "text": [
            "\n"
          ]
        },
        {
          "output_type": "stream",
          "name": "stderr",
          "text": [
            "actual:   8.0 -- predicted:  59.5 -- YOLO:   2.0 -- FAMNet error:  51.5 -- YOLO error:   6.0 -- Current MAE:43.91 -- RMSE:59.51 -- Best VAL MAE:10000000.00 -- RMSE: 10000000.00:   1%|▏         | 46/3659 [01:35<50:27,  1.19it/s]"
          ]
        },
        {
          "output_type": "stream",
          "name": "stdout",
          "text": [
            "\n"
          ]
        },
        {
          "output_type": "stream",
          "name": "stderr",
          "text": [
            "actual:  85.0 -- predicted:  81.0 -- YOLO:   0.0 -- FAMNet error:   4.0 -- YOLO error:  85.0 -- Current MAE:43.06 -- RMSE:58.88 -- Best VAL MAE:10000000.00 -- RMSE: 10000000.00:   1%|▏         | 47/3659 [01:36<51:14,  1.17it/s]"
          ]
        },
        {
          "output_type": "stream",
          "name": "stdout",
          "text": [
            "\n"
          ]
        },
        {
          "output_type": "stream",
          "name": "stderr",
          "text": [
            "actual:  10.0 -- predicted:  44.2 -- YOLO:  10.0 -- FAMNet error:  34.2 -- YOLO error:   0.0 -- Current MAE:42.88 -- RMSE:58.47 -- Best VAL MAE:10000000.00 -- RMSE: 10000000.00:   1%|▏         | 48/3659 [01:37<58:37,  1.03it/s]"
          ]
        },
        {
          "output_type": "stream",
          "name": "stdout",
          "text": [
            "\n"
          ]
        },
        {
          "output_type": "stream",
          "name": "stderr",
          "text": [
            "actual:  12.0 -- predicted:  14.9 -- YOLO:  12.0 -- FAMNet error:   2.9 -- YOLO error:   0.0 -- Current MAE:42.06 -- RMSE:57.87 -- Best VAL MAE:10000000.00 -- RMSE: 10000000.00:   1%|▏         | 49/3659 [01:38<1:00:09,  1.00it/s]"
          ]
        },
        {
          "output_type": "stream",
          "name": "stdout",
          "text": [
            "\n"
          ]
        },
        {
          "output_type": "stream",
          "name": "stderr",
          "text": [
            "actual:  17.0 -- predicted:  61.4 -- YOLO:  16.0 -- FAMNet error:  44.4 -- YOLO error:   1.0 -- Current MAE:42.11 -- RMSE:57.63 -- Best VAL MAE:10000000.00 -- RMSE: 10000000.00:   1%|▏         | 50/3659 [01:39<1:04:06,  1.07s/it]"
          ]
        },
        {
          "output_type": "stream",
          "name": "stdout",
          "text": [
            "\n"
          ]
        },
        {
          "output_type": "stream",
          "name": "stderr",
          "text": [
            "actual:  66.0 -- predicted: 104.2 -- YOLO:   3.0 -- FAMNet error:  38.2 -- YOLO error:  63.0 -- Current MAE:42.03 -- RMSE:57.32 -- Best VAL MAE:10000000.00 -- RMSE: 10000000.00:   1%|▏         | 51/3659 [01:40<1:03:05,  1.05s/it]"
          ]
        },
        {
          "output_type": "stream",
          "name": "stdout",
          "text": [
            "\n"
          ]
        },
        {
          "output_type": "stream",
          "name": "stderr",
          "text": [
            "actual:  65.0 -- predicted:  90.7 -- YOLO:   1.0 -- FAMNet error:  25.7 -- YOLO error:  64.0 -- Current MAE:41.72 -- RMSE:56.87 -- Best VAL MAE:10000000.00 -- RMSE: 10000000.00:   1%|▏         | 52/3659 [01:41<1:04:01,  1.07s/it]"
          ]
        },
        {
          "output_type": "stream",
          "name": "stdout",
          "text": [
            "\n"
          ]
        },
        {
          "output_type": "stream",
          "name": "stderr",
          "text": [
            "actual:  30.0 -- predicted:   8.8 -- YOLO:   6.0 -- FAMNet error:  21.2 -- YOLO error:  24.0 -- Current MAE:41.33 -- RMSE:56.41 -- Best VAL MAE:10000000.00 -- RMSE: 10000000.00:   1%|▏         | 53/3659 [01:42<1:04:00,  1.07s/it]"
          ]
        },
        {
          "output_type": "stream",
          "name": "stdout",
          "text": [
            "\n"
          ]
        },
        {
          "output_type": "stream",
          "name": "stderr",
          "text": [
            "actual:  12.0 -- predicted:   2.0 -- YOLO:  10.0 -- FAMNet error:  10.0 -- YOLO error:   2.0 -- Current MAE:40.75 -- RMSE:55.90 -- Best VAL MAE:10000000.00 -- RMSE: 10000000.00:   1%|▏         | 54/3659 [01:44<1:03:56,  1.06s/it]"
          ]
        },
        {
          "output_type": "stream",
          "name": "stdout",
          "text": [
            "\n"
          ]
        },
        {
          "output_type": "stream",
          "name": "stderr",
          "text": [
            "actual:  17.0 -- predicted:  32.5 -- YOLO:   2.0 -- FAMNet error:  15.5 -- YOLO error:  15.0 -- Current MAE:40.29 -- RMSE:55.43 -- Best VAL MAE:10000000.00 -- RMSE: 10000000.00:   2%|▏         | 55/3659 [01:44<1:00:56,  1.01s/it]"
          ]
        },
        {
          "output_type": "stream",
          "name": "stdout",
          "text": [
            "\n"
          ]
        },
        {
          "output_type": "stream",
          "name": "stderr",
          "text": [
            "actual:  40.0 -- predicted:  60.5 -- YOLO:   1.0 -- FAMNet error:  20.5 -- YOLO error:  39.0 -- Current MAE:39.94 -- RMSE:55.00 -- Best VAL MAE:10000000.00 -- RMSE: 10000000.00:   2%|▏         | 56/3659 [01:45<57:34,  1.04it/s]  "
          ]
        },
        {
          "output_type": "stream",
          "name": "stdout",
          "text": [
            "\n"
          ]
        },
        {
          "output_type": "stream",
          "name": "stderr",
          "text": [
            "actual: 116.0 -- predicted:  65.6 -- YOLO:   1.0 -- FAMNet error:  50.4 -- YOLO error: 115.0 -- Current MAE:40.12 -- RMSE:54.92 -- Best VAL MAE:10000000.00 -- RMSE: 10000000.00:   2%|▏         | 57/3659 [01:46<53:22,  1.12it/s]"
          ]
        },
        {
          "output_type": "stream",
          "name": "stdout",
          "text": [
            "\n"
          ]
        },
        {
          "output_type": "stream",
          "name": "stderr",
          "text": [
            "actual:  63.0 -- predicted:  64.4 -- YOLO:   1.0 -- FAMNet error:   1.4 -- YOLO error:  62.0 -- Current MAE:39.45 -- RMSE:54.45 -- Best VAL MAE:10000000.00 -- RMSE: 10000000.00:   2%|▏         | 58/3659 [01:47<53:12,  1.13it/s]"
          ]
        },
        {
          "output_type": "stream",
          "name": "stdout",
          "text": [
            "\n"
          ]
        },
        {
          "output_type": "stream",
          "name": "stderr",
          "text": [
            "actual:  46.0 -- predicted:  54.5 -- YOLO:   0.0 -- FAMNet error:   8.5 -- YOLO error:  46.0 -- Current MAE:38.93 -- RMSE:54.00 -- Best VAL MAE:10000000.00 -- RMSE: 10000000.00:   2%|▏         | 59/3659 [01:48<55:29,  1.08it/s]"
          ]
        },
        {
          "output_type": "stream",
          "name": "stdout",
          "text": [
            "\n"
          ]
        },
        {
          "output_type": "stream",
          "name": "stderr",
          "text": [
            "actual:  42.0 -- predicted:  80.8 -- YOLO:   3.0 -- FAMNet error:  38.8 -- YOLO error:  39.0 -- Current MAE:38.92 -- RMSE:53.78 -- Best VAL MAE:10000000.00 -- RMSE: 10000000.00:   2%|▏         | 60/3659 [01:49<54:08,  1.11it/s]"
          ]
        },
        {
          "output_type": "stream",
          "name": "stdout",
          "text": [
            "\n"
          ]
        },
        {
          "output_type": "stream",
          "name": "stderr",
          "text": [
            "actual:  19.0 -- predicted:   0.7 -- YOLO:  19.0 -- FAMNet error:  18.3 -- YOLO error:   0.0 -- Current MAE:38.59 -- RMSE:53.39 -- Best VAL MAE:10000000.00 -- RMSE: 10000000.00:   2%|▏         | 61/3659 [01:50<58:47,  1.02it/s]"
          ]
        },
        {
          "output_type": "stream",
          "name": "stdout",
          "text": [
            "\n"
          ]
        },
        {
          "output_type": "stream",
          "name": "stderr",
          "text": [
            "actual:   9.0 -- predicted:  23.9 -- YOLO:   1.0 -- FAMNet error:  14.9 -- YOLO error:   8.0 -- Current MAE:38.20 -- RMSE:52.99 -- Best VAL MAE:10000000.00 -- RMSE: 10000000.00:   2%|▏         | 62/3659 [01:51<55:40,  1.08it/s]"
          ]
        },
        {
          "output_type": "stream",
          "name": "stdout",
          "text": [
            "\n"
          ]
        },
        {
          "output_type": "stream",
          "name": "stderr",
          "text": [
            "actual: 200.0 -- predicted:  75.9 -- YOLO:   4.0 -- FAMNet error: 124.1 -- YOLO error: 196.0 -- Current MAE:39.57 -- RMSE:54.84 -- Best VAL MAE:10000000.00 -- RMSE: 10000000.00:   2%|▏         | 63/3659 [01:52<58:19,  1.03it/s]"
          ]
        },
        {
          "output_type": "stream",
          "name": "stdout",
          "text": [
            "\n"
          ]
        },
        {
          "output_type": "stream",
          "name": "stderr",
          "text": [
            "actual:  61.0 -- predicted:  44.3 -- YOLO:   0.0 -- FAMNet error:  16.7 -- YOLO error:  61.0 -- Current MAE:39.21 -- RMSE:54.45 -- Best VAL MAE:10000000.00 -- RMSE: 10000000.00:   2%|▏         | 64/3659 [01:53<56:13,  1.07it/s]"
          ]
        },
        {
          "output_type": "stream",
          "name": "stdout",
          "text": [
            "\n"
          ]
        },
        {
          "output_type": "stream",
          "name": "stderr",
          "text": [
            "actual:  49.0 -- predicted:  40.6 -- YOLO:   0.0 -- FAMNet error:   8.4 -- YOLO error:  49.0 -- Current MAE:38.74 -- RMSE:54.04 -- Best VAL MAE:10000000.00 -- RMSE: 10000000.00:   2%|▏         | 65/3659 [01:53<52:24,  1.14it/s]"
          ]
        },
        {
          "output_type": "stream",
          "name": "stdout",
          "text": [
            "\n"
          ]
        },
        {
          "output_type": "stream",
          "name": "stderr",
          "text": [
            "actual:  20.0 -- predicted:  56.9 -- YOLO:  18.0 -- FAMNet error:  36.9 -- YOLO error:   2.0 -- Current MAE:38.71 -- RMSE:53.82 -- Best VAL MAE:10000000.00 -- RMSE: 10000000.00:   2%|▏         | 66/3659 [01:54<56:56,  1.05it/s]"
          ]
        },
        {
          "output_type": "stream",
          "name": "stdout",
          "text": [
            "\n"
          ]
        },
        {
          "output_type": "stream",
          "name": "stderr",
          "text": [
            "actual:   8.0 -- predicted:  29.5 -- YOLO:   8.0 -- FAMNet error:  21.5 -- YOLO error:   0.0 -- Current MAE:38.45 -- RMSE:53.48 -- Best VAL MAE:10000000.00 -- RMSE: 10000000.00:   2%|▏         | 67/3659 [01:56<1:05:46,  1.10s/it]"
          ]
        },
        {
          "output_type": "stream",
          "name": "stdout",
          "text": [
            "\n"
          ]
        },
        {
          "output_type": "stream",
          "name": "stderr",
          "text": [
            "actual: 146.0 -- predicted: 139.7 -- YOLO:   2.0 -- FAMNet error:   6.3 -- YOLO error: 144.0 -- Current MAE:37.98 -- RMSE:53.09 -- Best VAL MAE:10000000.00 -- RMSE: 10000000.00:   2%|▏         | 68/3659 [01:57<1:01:41,  1.03s/it]"
          ]
        },
        {
          "output_type": "stream",
          "name": "stdout",
          "text": [
            "\n"
          ]
        },
        {
          "output_type": "stream",
          "name": "stderr",
          "text": [
            "actual:  16.0 -- predicted:  66.2 -- YOLO:   1.0 -- FAMNet error:  50.2 -- YOLO error:  15.0 -- Current MAE:38.15 -- RMSE:53.05 -- Best VAL MAE:10000000.00 -- RMSE: 10000000.00:   2%|▏         | 69/3659 [01:58<56:02,  1.07it/s]  "
          ]
        },
        {
          "output_type": "stream",
          "name": "stdout",
          "text": [
            "\n"
          ]
        },
        {
          "output_type": "stream",
          "name": "stderr",
          "text": [
            "actual: 450.0 -- predicted:  74.6 -- YOLO:   1.0 -- FAMNet error: 375.4 -- YOLO error: 449.0 -- Current MAE:42.97 -- RMSE:69.19 -- Best VAL MAE:10000000.00 -- RMSE: 10000000.00:   2%|▏         | 70/3659 [01:58<54:09,  1.10it/s]"
          ]
        },
        {
          "output_type": "stream",
          "name": "stdout",
          "text": [
            "\n"
          ]
        },
        {
          "output_type": "stream",
          "name": "stderr",
          "text": [
            "actual: 366.0 -- predicted: 167.2 -- YOLO:   0.0 -- FAMNet error: 198.8 -- YOLO error: 366.0 -- Current MAE:45.17 -- RMSE:72.64 -- Best VAL MAE:10000000.00 -- RMSE: 10000000.00:   2%|▏         | 71/3659 [01:59<55:40,  1.07it/s]"
          ]
        },
        {
          "output_type": "stream",
          "name": "stdout",
          "text": [
            "\n"
          ]
        },
        {
          "output_type": "stream",
          "name": "stderr",
          "text": [
            "actual:   8.0 -- predicted: 116.8 -- YOLO:   8.0 -- FAMNet error: 108.8 -- YOLO error:   0.0 -- Current MAE:46.05 -- RMSE:73.27 -- Best VAL MAE:10000000.00 -- RMSE: 10000000.00:   2%|▏         | 72/3659 [02:00<57:09,  1.05it/s]"
          ]
        },
        {
          "output_type": "stream",
          "name": "stdout",
          "text": [
            "\n"
          ]
        },
        {
          "output_type": "stream",
          "name": "stderr",
          "text": [
            "actual:  89.0 -- predicted:  92.8 -- YOLO:   0.0 -- FAMNet error:   3.8 -- YOLO error:  89.0 -- Current MAE:45.47 -- RMSE:72.77 -- Best VAL MAE:10000000.00 -- RMSE: 10000000.00:   2%|▏         | 73/3659 [02:01<53:19,  1.12it/s]"
          ]
        },
        {
          "output_type": "stream",
          "name": "stdout",
          "text": [
            "\n"
          ]
        },
        {
          "output_type": "stream",
          "name": "stderr",
          "text": [
            "actual:  26.0 -- predicted:  58.0 -- YOLO:  16.0 -- FAMNet error:  32.0 -- YOLO error:  10.0 -- Current MAE:45.29 -- RMSE:72.37 -- Best VAL MAE:10000000.00 -- RMSE: 10000000.00:   2%|▏         | 74/3659 [02:02<56:20,  1.06it/s]"
          ]
        },
        {
          "output_type": "stream",
          "name": "stdout",
          "text": [
            "\n"
          ]
        },
        {
          "output_type": "stream",
          "name": "stderr",
          "text": [
            "actual:  27.0 -- predicted:  12.3 -- YOLO:  26.0 -- FAMNet error:  14.7 -- YOLO error:   1.0 -- Current MAE:44.88 -- RMSE:71.90 -- Best VAL MAE:10000000.00 -- RMSE: 10000000.00:   2%|▏         | 75/3659 [02:03<1:00:04,  1.01s/it]"
          ]
        },
        {
          "output_type": "stream",
          "name": "stdout",
          "text": [
            "\n"
          ]
        },
        {
          "output_type": "stream",
          "name": "stderr",
          "text": [
            "actual:  24.0 -- predicted:  57.1 -- YOLO:   1.0 -- FAMNet error:  33.1 -- YOLO error:  23.0 -- Current MAE:44.73 -- RMSE:71.53 -- Best VAL MAE:10000000.00 -- RMSE: 10000000.00:   2%|▏         | 76/3659 [02:04<57:29,  1.04it/s]  "
          ]
        },
        {
          "output_type": "stream",
          "name": "stdout",
          "text": [
            "\n"
          ]
        },
        {
          "output_type": "stream",
          "name": "stderr",
          "text": [
            "actual:  20.0 -- predicted:  45.6 -- YOLO:  12.0 -- FAMNet error:  25.6 -- YOLO error:   8.0 -- Current MAE:44.48 -- RMSE:71.12 -- Best VAL MAE:10000000.00 -- RMSE: 10000000.00:   2%|▏         | 77/3659 [02:05<58:29,  1.02it/s]"
          ]
        },
        {
          "output_type": "stream",
          "name": "stdout",
          "text": [
            "\n"
          ]
        },
        {
          "output_type": "stream",
          "name": "stderr",
          "text": [
            "actual:  10.0 -- predicted:  48.5 -- YOLO:   7.0 -- FAMNet error:  38.5 -- YOLO error:   3.0 -- Current MAE:44.40 -- RMSE:70.80 -- Best VAL MAE:10000000.00 -- RMSE: 10000000.00:   2%|▏         | 78/3659 [02:06<59:47,  1.00s/it]"
          ]
        },
        {
          "output_type": "stream",
          "name": "stdout",
          "text": [
            "\n"
          ]
        },
        {
          "output_type": "stream",
          "name": "stderr",
          "text": [
            "actual:  23.0 -- predicted:  47.9 -- YOLO:   0.0 -- FAMNet error:  24.9 -- YOLO error:  23.0 -- Current MAE:44.16 -- RMSE:70.41 -- Best VAL MAE:10000000.00 -- RMSE: 10000000.00:   2%|▏         | 79/3659 [02:07<56:42,  1.05it/s]"
          ]
        },
        {
          "output_type": "stream",
          "name": "stdout",
          "text": [
            "\n"
          ]
        },
        {
          "output_type": "stream",
          "name": "stderr",
          "text": [
            "actual:  28.0 -- predicted: 106.3 -- YOLO:  14.0 -- FAMNet error:  78.3 -- YOLO error:  14.0 -- Current MAE:44.58 -- RMSE:70.51 -- Best VAL MAE:10000000.00 -- RMSE: 10000000.00:   2%|▏         | 80/3659 [02:08<1:01:39,  1.03s/it]"
          ]
        },
        {
          "output_type": "stream",
          "name": "stdout",
          "text": [
            "\n"
          ]
        }
      ],
      "source": [
        "%matplotlib inline\n",
        "run_train_phase(epochs=100, backbone_model=backbone_model, regressor=regressor, yolo_model=model_yolo,\n",
        "                optimizer=optimizer, criterion=criterion, annotations=annotations, \n",
        "                data_train=data_split['train'], shuffle=True, data_val=data_split['val'], \n",
        "                num_img_train=len(data_split['train']), num_img_val=len(data_split['val']), \n",
        "                yolo_flag=True, yolo_threshold=3, \n",
        "                plot_flag=False, \n",
        "                save='/content/drive/MyDrive/LearningToCountEverything_new/data/pretainedModelsOurs/model_resnet_yolo.pth', \n",
        "                im_dir=im_dir, gt_dir=gt_dir,\n",
        "                enable_gpu=enable_gpu, augment=True, \n",
        "                checkpoint_dir='checkpoints/', \n",
        "                load_checkpoint='/content/drive/MyDrive/LearningToCountEverything_new/checkpoints/checkpoint.pt')"
      ]
    },
    {
      "cell_type": "markdown",
      "metadata": {
        "id": "l8Dn-P797pE_"
      },
      "source": [
        "# Testing"
      ]
    },
    {
      "cell_type": "code",
      "source": [
        "import torch.nn as nn\n",
        "from model import Resnet50FPN, CountRegressor, weights_normal_init, weights_xavier_init\n",
        "from utils_ltce import MAPS, Scales, Transform,TransformTrain,extract_features, visualize_output_and_save\n",
        "from PIL import Image\n",
        "import os\n",
        "import torch\n",
        "import argparse\n",
        "import json\n",
        "import numpy as np\n",
        "from tqdm import tqdm\n",
        "from os.path import exists,join\n",
        "import random\n",
        "import torch.optim as optim\n",
        "import torch.nn.functional as F\n",
        "import cv2\n",
        "import matplotlib.pyplot as plt\n",
        "from collections import defaultdict\n",
        "import torchvision.ops.boxes as bops\n",
        "from funcs import *"
      ],
      "metadata": {
        "id": "fjIQW06aSzN7"
      },
      "execution_count": null,
      "outputs": []
    },
    {
      "cell_type": "code",
      "source": [
        "data_path = '/content/drive/MyDrive/LearningToCountEverything_new/data/'\n",
        "output_dir = \"./logsSave\"\n",
        "test_split = \"test\" #choices=[\"train\", \"test\", \"val\"]\n",
        "gpu = 0 \n",
        "learning_rate = 1e-5\n",
        "anno_file = data_path + 'annotation_FSC147_384.json'\n",
        "data_split_file = data_path + 'Train_Test_Val_FSC_147.json'\n",
        "im_dir = data_path + 'images_384_VarV2'\n",
        "gt_dir = data_path + 'gt_density_map_adaptive_384_VarV2'\n",
        "\n",
        "\n",
        "regressor = CountRegressor(6, pool='mean')\n",
        "\n",
        "backbone_model = Resnet50FPN()\n",
        "\n",
        "if enable_gpu: \n",
        "\n",
        "  regressor.cuda()\n",
        "  regressor.eval()\n",
        "  criterion = nn.MSELoss().cuda()\n",
        "  backbone_model.cuda()\n",
        "  backbone_model.eval()\n",
        "\n",
        "else: \n",
        "  regressor.train()\n",
        "  criterion = nn.MSELoss()\n",
        "  backbone_model.eval()\n",
        "\n",
        "optimizer = optim.Adam(regressor.parameters(), lr = learning_rate)\n",
        "\n",
        "if not exists(output_dir):\n",
        "    os.mkdir(output_dir)\n",
        "\n",
        "os.environ[\"CUDA_DEVICE_ORDER\"] = \"PCI_BUS_ID\"\n",
        "os.environ[\"CUDA_VISIBLE_DEVICES\"] = str(gpu)"
      ],
      "metadata": {
        "id": "wa3iCU0WEH3E"
      },
      "execution_count": null,
      "outputs": []
    },
    {
      "cell_type": "code",
      "execution_count": null,
      "metadata": {
        "id": "FgMfssLi7pFA"
      },
      "outputs": [],
      "source": [
        "with open(anno_file) as f:\n",
        "    annotations = json.load(f)\n",
        "\n",
        "with open(data_split_file) as f:\n",
        "    data_split = json.load(f)"
      ]
    },
    {
      "cell_type": "code",
      "execution_count": null,
      "metadata": {
        "colab": {
          "base_uri": "https://localhost:8080/"
        },
        "id": "sdL08XMl7pFB",
        "outputId": "debfbc1d-1fda-4901-a8e4-71deed7f6217"
      },
      "outputs": [
        {
          "output_type": "stream",
          "name": "stderr",
          "text": [
            "Using cache found in /root/.cache/torch/hub/ultralytics_yolov5_master\n",
            "YOLOv5 🚀 2021-12-12 torch 1.10.0+cu111 CUDA:0 (Tesla K80, 11441MiB)\n",
            "\n",
            "Fusing layers... \n",
            "Model Summary: 476 layers, 76726332 parameters, 0 gradients\n",
            "Adding AutoShape... \n"
          ]
        }
      ],
      "source": [
        "model_yolo = torch.hub.load('ultralytics/yolov5', 'yolov5l6', pretrained=True)"
      ]
    },
    {
      "cell_type": "code",
      "execution_count": null,
      "metadata": {
        "id": "XLKdAAl17pFB"
      },
      "outputs": [],
      "source": [
        "import warnings\n",
        "warnings.filterwarnings(\"ignore\")"
      ]
    },
    {
      "cell_type": "code",
      "execution_count": null,
      "metadata": {
        "id": "qFTmaCHR7pFB"
      },
      "outputs": [],
      "source": [
        "%%time\n",
        "%matplotlib inline\n",
        "test(data_split['test'][100:], num_img=10, backbone_model=backbone_model, regressor=regressor, \n",
        "     yolo_model=model_yolo, yolo_flag=False, yolo_threshold=3, annotations=annotations, \n",
        "     plot_flag=True, im_dir=data_path+'images_384_VarV2', enable_gpu=True, \n",
        "     model_path= data_path + \"pretrainedModels/FamNet_Save1.pth\",\n",
        "     adapt=False, gradient_steps=100, learning_rate=1e-7)"
      ]
    },
    {
      "cell_type": "code",
      "source": [
        ""
      ],
      "metadata": {
        "id": "aDOFEOMDGWqV"
      },
      "execution_count": null,
      "outputs": []
    }
  ],
  "metadata": {
    "interpreter": {
      "hash": "6576bbb3ea8043231b63aded6960e6ea5b863559976330c0515cb191a60ecccc"
    },
    "kernelspec": {
      "display_name": "Python 3.7.11 64-bit ('fscount': conda)",
      "language": "python",
      "name": "python3"
    },
    "language_info": {
      "codemirror_mode": {
        "name": "ipython",
        "version": 3
      },
      "file_extension": ".py",
      "mimetype": "text/x-python",
      "name": "python",
      "nbconvert_exporter": "python",
      "pygments_lexer": "ipython3",
      "version": "3.7.11"
    },
    "orig_nbformat": 4,
    "colab": {
      "name": "complete.ipynb",
      "provenance": [],
      "collapsed_sections": []
    },
    "accelerator": "GPU",
    "widgets": {
      "application/vnd.jupyter.widget-state+json": {
        "edc99d3c52f345b9b4cf69d1c7b05e38": {
          "model_module": "@jupyter-widgets/controls",
          "model_name": "HBoxModel",
          "model_module_version": "1.5.0",
          "state": {
            "_view_name": "HBoxView",
            "_dom_classes": [],
            "_model_name": "HBoxModel",
            "_view_module": "@jupyter-widgets/controls",
            "_model_module_version": "1.5.0",
            "_view_count": null,
            "_view_module_version": "1.5.0",
            "box_style": "",
            "layout": "IPY_MODEL_2828348ea6a64105acde9a1b2f11ee1b",
            "_model_module": "@jupyter-widgets/controls",
            "children": [
              "IPY_MODEL_74eb727ea7434c5aae5ba256640fbd8d",
              "IPY_MODEL_254b4992ef02470cad909163cbc77c77",
              "IPY_MODEL_ac98a0f1e80f4139a39a5531076bd8b7"
            ]
          }
        },
        "2828348ea6a64105acde9a1b2f11ee1b": {
          "model_module": "@jupyter-widgets/base",
          "model_name": "LayoutModel",
          "model_module_version": "1.2.0",
          "state": {
            "_view_name": "LayoutView",
            "grid_template_rows": null,
            "right": null,
            "justify_content": null,
            "_view_module": "@jupyter-widgets/base",
            "overflow": null,
            "_model_module_version": "1.2.0",
            "_view_count": null,
            "flex_flow": null,
            "width": null,
            "min_width": null,
            "border": null,
            "align_items": null,
            "bottom": null,
            "_model_module": "@jupyter-widgets/base",
            "top": null,
            "grid_column": null,
            "overflow_y": null,
            "overflow_x": null,
            "grid_auto_flow": null,
            "grid_area": null,
            "grid_template_columns": null,
            "flex": null,
            "_model_name": "LayoutModel",
            "justify_items": null,
            "grid_row": null,
            "max_height": null,
            "align_content": null,
            "visibility": null,
            "align_self": null,
            "height": null,
            "min_height": null,
            "padding": null,
            "grid_auto_rows": null,
            "grid_gap": null,
            "max_width": null,
            "order": null,
            "_view_module_version": "1.2.0",
            "grid_template_areas": null,
            "object_position": null,
            "object_fit": null,
            "grid_auto_columns": null,
            "margin": null,
            "display": null,
            "left": null
          }
        },
        "74eb727ea7434c5aae5ba256640fbd8d": {
          "model_module": "@jupyter-widgets/controls",
          "model_name": "HTMLModel",
          "model_module_version": "1.5.0",
          "state": {
            "_view_name": "HTMLView",
            "style": "IPY_MODEL_be8ff63484ae4ef8b779cef748591447",
            "_dom_classes": [],
            "description": "",
            "_model_name": "HTMLModel",
            "placeholder": "​",
            "_view_module": "@jupyter-widgets/controls",
            "_model_module_version": "1.5.0",
            "value": "100%",
            "_view_count": null,
            "_view_module_version": "1.5.0",
            "description_tooltip": null,
            "_model_module": "@jupyter-widgets/controls",
            "layout": "IPY_MODEL_09f0f1f48ac349cf8d5883c414d6e83b"
          }
        },
        "254b4992ef02470cad909163cbc77c77": {
          "model_module": "@jupyter-widgets/controls",
          "model_name": "FloatProgressModel",
          "model_module_version": "1.5.0",
          "state": {
            "_view_name": "ProgressView",
            "style": "IPY_MODEL_ac0ca54ca55c4a31981ee594fb4f2c49",
            "_dom_classes": [],
            "description": "",
            "_model_name": "FloatProgressModel",
            "bar_style": "success",
            "max": 102530333,
            "_view_module": "@jupyter-widgets/controls",
            "_model_module_version": "1.5.0",
            "value": 102530333,
            "_view_count": null,
            "_view_module_version": "1.5.0",
            "orientation": "horizontal",
            "min": 0,
            "description_tooltip": null,
            "_model_module": "@jupyter-widgets/controls",
            "layout": "IPY_MODEL_383fd37fce0a46b0b516fac0c897a513"
          }
        },
        "ac98a0f1e80f4139a39a5531076bd8b7": {
          "model_module": "@jupyter-widgets/controls",
          "model_name": "HTMLModel",
          "model_module_version": "1.5.0",
          "state": {
            "_view_name": "HTMLView",
            "style": "IPY_MODEL_5357734847484bf995c9b01f74a5ac3f",
            "_dom_classes": [],
            "description": "",
            "_model_name": "HTMLModel",
            "placeholder": "​",
            "_view_module": "@jupyter-widgets/controls",
            "_model_module_version": "1.5.0",
            "value": " 97.8M/97.8M [00:00&lt;00:00, 116MB/s]",
            "_view_count": null,
            "_view_module_version": "1.5.0",
            "description_tooltip": null,
            "_model_module": "@jupyter-widgets/controls",
            "layout": "IPY_MODEL_ec5b7650739f495db2e1cfeaf0692873"
          }
        },
        "be8ff63484ae4ef8b779cef748591447": {
          "model_module": "@jupyter-widgets/controls",
          "model_name": "DescriptionStyleModel",
          "model_module_version": "1.5.0",
          "state": {
            "_view_name": "StyleView",
            "_model_name": "DescriptionStyleModel",
            "description_width": "",
            "_view_module": "@jupyter-widgets/base",
            "_model_module_version": "1.5.0",
            "_view_count": null,
            "_view_module_version": "1.2.0",
            "_model_module": "@jupyter-widgets/controls"
          }
        },
        "09f0f1f48ac349cf8d5883c414d6e83b": {
          "model_module": "@jupyter-widgets/base",
          "model_name": "LayoutModel",
          "model_module_version": "1.2.0",
          "state": {
            "_view_name": "LayoutView",
            "grid_template_rows": null,
            "right": null,
            "justify_content": null,
            "_view_module": "@jupyter-widgets/base",
            "overflow": null,
            "_model_module_version": "1.2.0",
            "_view_count": null,
            "flex_flow": null,
            "width": null,
            "min_width": null,
            "border": null,
            "align_items": null,
            "bottom": null,
            "_model_module": "@jupyter-widgets/base",
            "top": null,
            "grid_column": null,
            "overflow_y": null,
            "overflow_x": null,
            "grid_auto_flow": null,
            "grid_area": null,
            "grid_template_columns": null,
            "flex": null,
            "_model_name": "LayoutModel",
            "justify_items": null,
            "grid_row": null,
            "max_height": null,
            "align_content": null,
            "visibility": null,
            "align_self": null,
            "height": null,
            "min_height": null,
            "padding": null,
            "grid_auto_rows": null,
            "grid_gap": null,
            "max_width": null,
            "order": null,
            "_view_module_version": "1.2.0",
            "grid_template_areas": null,
            "object_position": null,
            "object_fit": null,
            "grid_auto_columns": null,
            "margin": null,
            "display": null,
            "left": null
          }
        },
        "ac0ca54ca55c4a31981ee594fb4f2c49": {
          "model_module": "@jupyter-widgets/controls",
          "model_name": "ProgressStyleModel",
          "model_module_version": "1.5.0",
          "state": {
            "_view_name": "StyleView",
            "_model_name": "ProgressStyleModel",
            "description_width": "",
            "_view_module": "@jupyter-widgets/base",
            "_model_module_version": "1.5.0",
            "_view_count": null,
            "_view_module_version": "1.2.0",
            "bar_color": null,
            "_model_module": "@jupyter-widgets/controls"
          }
        },
        "383fd37fce0a46b0b516fac0c897a513": {
          "model_module": "@jupyter-widgets/base",
          "model_name": "LayoutModel",
          "model_module_version": "1.2.0",
          "state": {
            "_view_name": "LayoutView",
            "grid_template_rows": null,
            "right": null,
            "justify_content": null,
            "_view_module": "@jupyter-widgets/base",
            "overflow": null,
            "_model_module_version": "1.2.0",
            "_view_count": null,
            "flex_flow": null,
            "width": null,
            "min_width": null,
            "border": null,
            "align_items": null,
            "bottom": null,
            "_model_module": "@jupyter-widgets/base",
            "top": null,
            "grid_column": null,
            "overflow_y": null,
            "overflow_x": null,
            "grid_auto_flow": null,
            "grid_area": null,
            "grid_template_columns": null,
            "flex": null,
            "_model_name": "LayoutModel",
            "justify_items": null,
            "grid_row": null,
            "max_height": null,
            "align_content": null,
            "visibility": null,
            "align_self": null,
            "height": null,
            "min_height": null,
            "padding": null,
            "grid_auto_rows": null,
            "grid_gap": null,
            "max_width": null,
            "order": null,
            "_view_module_version": "1.2.0",
            "grid_template_areas": null,
            "object_position": null,
            "object_fit": null,
            "grid_auto_columns": null,
            "margin": null,
            "display": null,
            "left": null
          }
        },
        "5357734847484bf995c9b01f74a5ac3f": {
          "model_module": "@jupyter-widgets/controls",
          "model_name": "DescriptionStyleModel",
          "model_module_version": "1.5.0",
          "state": {
            "_view_name": "StyleView",
            "_model_name": "DescriptionStyleModel",
            "description_width": "",
            "_view_module": "@jupyter-widgets/base",
            "_model_module_version": "1.5.0",
            "_view_count": null,
            "_view_module_version": "1.2.0",
            "_model_module": "@jupyter-widgets/controls"
          }
        },
        "ec5b7650739f495db2e1cfeaf0692873": {
          "model_module": "@jupyter-widgets/base",
          "model_name": "LayoutModel",
          "model_module_version": "1.2.0",
          "state": {
            "_view_name": "LayoutView",
            "grid_template_rows": null,
            "right": null,
            "justify_content": null,
            "_view_module": "@jupyter-widgets/base",
            "overflow": null,
            "_model_module_version": "1.2.0",
            "_view_count": null,
            "flex_flow": null,
            "width": null,
            "min_width": null,
            "border": null,
            "align_items": null,
            "bottom": null,
            "_model_module": "@jupyter-widgets/base",
            "top": null,
            "grid_column": null,
            "overflow_y": null,
            "overflow_x": null,
            "grid_auto_flow": null,
            "grid_area": null,
            "grid_template_columns": null,
            "flex": null,
            "_model_name": "LayoutModel",
            "justify_items": null,
            "grid_row": null,
            "max_height": null,
            "align_content": null,
            "visibility": null,
            "align_self": null,
            "height": null,
            "min_height": null,
            "padding": null,
            "grid_auto_rows": null,
            "grid_gap": null,
            "max_width": null,
            "order": null,
            "_view_module_version": "1.2.0",
            "grid_template_areas": null,
            "object_position": null,
            "object_fit": null,
            "grid_auto_columns": null,
            "margin": null,
            "display": null,
            "left": null
          }
        }
      }
    }
  },
  "nbformat": 4,
  "nbformat_minor": 0
}